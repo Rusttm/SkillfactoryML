{
 "cells": [
  {
   "cell_type": "code",
   "execution_count": 1,
   "metadata": {},
   "outputs": [],
   "source": [
    "import math"
   ]
  },
  {
   "cell_type": "code",
   "execution_count": 55,
   "metadata": {},
   "outputs": [],
   "source": [
    "def disruption(number=11):\n",
    "    symbol_array = []\n",
    "    for l in (str(number)[:-2]):\n",
    "        symbol_array.append(int(l))\n",
    "    if str(number)[-2]=='1' and str(number)[-1]=='1':\n",
    "        end_11 = True\n",
    "    else: end_11 = False\n",
    "    return [end_11, sum(symbol_array)]"
   ]
  },
  {
   "cell_type": "code",
   "execution_count": 56,
   "metadata": {},
   "outputs": [],
   "source": [
    "assert  disruption(12345)==[False, 6], 'Error!'"
   ]
  },
  {
   "cell_type": "code",
   "execution_count": 58,
   "metadata": {},
   "outputs": [
    {
     "name": "stdout",
     "output_type": "stream",
     "text": [
      "64911\n"
     ]
    }
   ],
   "source": [
    "looking = True\n",
    "x=110\n",
    "while looking:\n",
    "    x+=11\n",
    "    d = disruption(x)\n",
    "    if d[0] and (d[1]>=11):\n",
    "        mult = d[1]%19\n",
    "        if mult == 0:\n",
    "            print(x)\n",
    "            looking = False\n",
    "        "
   ]
  },
  {
   "cell_type": "code",
   "execution_count": null,
   "metadata": {},
   "outputs": [],
   "source": []
  }
 ],
 "metadata": {
  "kernelspec": {
   "display_name": "Python 3",
   "language": "python",
   "name": "python3"
  },
  "language_info": {
   "codemirror_mode": {
    "name": "ipython",
    "version": 3
   },
   "file_extension": ".py",
   "mimetype": "text/x-python",
   "name": "python",
   "nbconvert_exporter": "python",
   "pygments_lexer": "ipython3",
   "version": "3.8.5"
  }
 },
 "nbformat": 4,
 "nbformat_minor": 4
}
