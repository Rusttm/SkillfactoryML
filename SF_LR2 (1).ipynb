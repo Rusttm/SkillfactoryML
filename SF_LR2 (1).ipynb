{
 "cells": [
  {
   "cell_type": "code",
   "execution_count": 1,
   "metadata": {},
   "outputs": [],
   "source": [
    "import numpy as np\n",
    "import pandas as pd\n",
    "from sklearn.datasets import load_boston\n",
    "from sklearn.metrics import mean_squared_error, f1_score, accuracy_score, roc_curve, roc_auc_score\n",
    "from sklearn.model_selection import train_test_split\n",
    "\n",
    "from matplotlib import pyplot as plt"
   ]
  },
  {
   "cell_type": "markdown",
   "metadata": {},
   "source": [
    "### 2.1.Когда использовать матричные операции вместо градиентного спуска в линейной регрессии"
   ]
  },
  {
   "cell_type": "code",
   "execution_count": 2,
   "metadata": {},
   "outputs": [],
   "source": [
    "def print_regression_metrics(y_true, y_pred):\n",
    "    mse = mean_squared_error(y_true, y_pred)\n",
    "    rmse = np.sqrt(mse)\n",
    "    print(f'MSE = {mse:.2f}, RMSE = {rmse:.2f}')\n",
    "    \n",
    "def prepare_boston_data():\n",
    "    data = load_boston()\n",
    "    X, y = data['data'], data['target']\n",
    "    # Нормализовать даннные с помощью стандартной нормализации\n",
    "    X = (X - X.mean(axis=0)) / X.std(axis=0)\n",
    "    # Добавить фиктивный столбец единиц (bias линейной модели)\n",
    "    X = np.hstack([np.ones(X.shape[0])[:, np.newaxis], X])\n",
    "    \n",
    "    return X, y"
   ]
  },
  {
   "cell_type": "markdown",
   "metadata": {},
   "source": [
    "Прежде чем начать, обернем написанную нами линейную регрессию методом матричных операций в класс:"
   ]
  },
  {
   "cell_type": "code",
   "execution_count": 3,
   "metadata": {},
   "outputs": [],
   "source": [
    "class LinRegAlgebra():\n",
    "    def __init__(self):\n",
    "        self.theta = None\n",
    "    \n",
    "    def fit(self, X, y):\n",
    "        self.theta = np.linalg.inv(X.transpose().dot(X)).dot(X.transpose()).dot(y)\n",
    "    \n",
    "    def predict(self, X):\n",
    "        return X.dot(self.theta)"
   ]
  },
  {
   "cell_type": "markdown",
   "metadata": {},
   "source": [
    "Проведем замеры скорости работы алгоритмов на матричных операциях и на градиентном спуске. Предварительно найдем параметры для метода, основанного на градиентном спуске, так, чтобы значения метрик максимально совпадало со значениями в случае первого алгоритма."
   ]
  },
  {
   "cell_type": "code",
   "execution_count": 4,
   "metadata": {},
   "outputs": [],
   "source": [
    "X, y = prepare_boston_data()"
   ]
  },
  {
   "cell_type": "code",
   "execution_count": 5,
   "metadata": {},
   "outputs": [
    {
     "name": "stdout",
     "output_type": "stream",
     "text": [
      "MSE = 21.89, RMSE = 4.68\n"
     ]
    }
   ],
   "source": [
    "linreg_alg = LinRegAlgebra()\n",
    "linreg_alg.fit(X, y)\n",
    "y_pred = linreg_alg.predict(X)\n",
    "\n",
    "# Посчитать значение ошибок MSE и RMSE для тренировочных данных\n",
    "print_regression_metrics(y, y_pred)"
   ]
  },
  {
   "cell_type": "code",
   "execution_count": 6,
   "metadata": {},
   "outputs": [],
   "source": [
    "class RegOptimizer():\n",
    "    def __init__(self, alpha, n_iters):\n",
    "        self.theta = None\n",
    "        self._alpha = alpha\n",
    "        self._n_iters = n_iters\n",
    "    \n",
    "    def gradient_step(self, theta, theta_grad):\n",
    "        \n",
    "        return theta - self._alpha * theta_grad \n",
    "     \n",
    "    \n",
    "    def grad_func(self, X, y, theta):\n",
    "        raise NotImplementedError()\n",
    "\n",
    "    def optimize(self, X, y, start_theta, n_iters):\n",
    "        theta = start_theta.copy()\n",
    "        theta_mas=[]\n",
    "        for i in range(n_iters):\n",
    "            theta_grad = self.grad_func(X, y, theta)\n",
    "            theta = self.gradient_step(theta, theta_grad)\n",
    "            theta_mas.append(theta)            \n",
    "            if np.max(abs(theta_grad))<=0.01:\n",
    "                print (i)\n",
    "                break\n",
    "                \n",
    "            #визуализируем шаги градиента\n",
    "        theta_mas=np.array(theta_mas)\n",
    "        plt.grid()\n",
    "        plt.xlabel('Шаг')\n",
    "        plt.ylabel('Значение градиента')\n",
    "        plt.plot(range(len(theta_mas)), theta_mas, label='f(x)')\n",
    "        print(f'Длина градиентного спуска: {len(theta_mas)}, Min theta_mas: {np.ndarray.min(abs(theta_mas))}')\n",
    "        return theta     \n",
    "                    \n",
    "    \n",
    "    def fit(self, X, y):\n",
    "        m = X.shape[1]\n",
    "        start_theta = np.ones(m)\n",
    "        self.theta = self.optimize(X, y, start_theta, self._n_iters)\n",
    "        \n",
    "    def predict(self, X):\n",
    "        raise NotImplementedError()"
   ]
  },
  {
   "cell_type": "code",
   "execution_count": 7,
   "metadata": {},
   "outputs": [],
   "source": [
    "class LinReg(RegOptimizer):\n",
    "    def grad_func(self, X, y, theta):\n",
    "        n = X.shape[0]\n",
    "        grad = 1. / n * X.transpose().dot(X.dot(theta) - y)\n",
    "        \n",
    "        \n",
    "        return grad\n",
    "    \n",
    "    def predict(self, X):\n",
    "        if self.theta is None:\n",
    "            raise Exception('You should train the model first')\n",
    "        \n",
    "        y_pred = X.dot(self.theta)\n",
    "        \n",
    "        return y_pred"
   ]
  },
  {
   "cell_type": "markdown",
   "metadata": {},
   "source": [
    "#### Задание 3.6.1\n",
    "Сделайте для градиентного спуска остановку алгоритма, если максимальное из абсолютных значений компонент градиента становится меньше **0.01**. Сравните скорость обучения градиентным спуском и матричными операциями.\n",
    "\n",
    "На какой итерации останавливается градиентный спуск?"
   ]
  },
  {
   "cell_type": "code",
   "execution_count": 8,
   "metadata": {},
   "outputs": [
    {
     "name": "stdout",
     "output_type": "stream",
     "text": [
      "212\n",
      "Длина градиентного спуска: 213, Min theta_mas: 6.44206020368565e-05\n",
      "MSE = 21.90, RMSE = 4.68\n"
     ]
    },
    {
     "data": {
      "image/png": "[encoded data removed]",
      "text/plain": [
       "<Figure size 1152x576 with 1 Axes>"
      ]
     },
     "metadata": {
      "needs_background": "light"
     },
     "output_type": "display_data"
    }
   ],
   "source": [
    "fig,ax = plt.subplots(figsize=(16,8))\n",
    "linreg_crit = LinReg(0.2,5000)\n",
    "linreg_crit.fit(X, y)\n",
    "y_pred = linreg_crit.predict(X)\n",
    "\n",
    "# Посчитать значение ошибок MSE и RMSE для тренировочных данных\n",
    "print_regression_metrics(y, y_pred)"
   ]
  },
  {
   "cell_type": "code",
   "execution_count": 9,
   "metadata": {},
   "outputs": [
    {
     "name": "stdout",
     "output_type": "stream",
     "text": [
      "67.7 µs ± 5.5 µs per loop (mean ± std. dev. of 7 runs, 10000 loops each)\n"
     ]
    }
   ],
   "source": [
    "%timeit linreg_alg.fit(X, y)"
   ]
  },
  {
   "cell_type": "code",
   "execution_count": 10,
   "metadata": {
    "scrolled": true
   },
   "outputs": [
    {
     "name": "stdout",
     "output_type": "stream",
     "text": [
      "212\n",
      "Длина градиентного спуска: 213, Min theta_mas: 6.44206020368565e-05\n",
      "212\n",
      "Длина градиентного спуска: 213, Min theta_mas: 6.44206020368565e-05\n",
      "212\n",
      "Длина градиентного спуска: 213, Min theta_mas: 6.44206020368565e-05\n",
      "212\n",
      "Длина градиентного спуска: 213, Min theta_mas: 6.44206020368565e-05\n",
      "212\n",
      "Длина градиентного спуска: 213, Min theta_mas: 6.44206020368565e-05\n",
      "212\n",
      "Длина градиентного спуска: 213, Min theta_mas: 6.44206020368565e-05\n",
      "212\n",
      "Длина градиентного спуска: 213, Min theta_mas: 6.44206020368565e-05\n",
      "212\n",
      "Длина градиентного спуска: 213, Min theta_mas: 6.44206020368565e-05\n",
      "212\n",
      "Длина градиентного спуска: 213, Min theta_mas: 6.44206020368565e-05\n",
      "212\n",
      "Длина градиентного спуска: 213, Min theta_mas: 6.44206020368565e-05\n",
      "212\n",
      "Длина градиентного спуска: 213, Min theta_mas: 6.44206020368565e-05\n",
      "212\n",
      "Длина градиентного спуска: 213, Min theta_mas: 6.44206020368565e-05\n",
      "212\n",
      "Длина градиентного спуска: 213, Min theta_mas: 6.44206020368565e-05\n",
      "212\n",
      "Длина градиентного спуска: 213, Min theta_mas: 6.44206020368565e-05\n",
      "212\n",
      "Длина градиентного спуска: 213, Min theta_mas: 6.44206020368565e-05\n",
      "212\n",
      "Длина градиентного спуска: 213, Min theta_mas: 6.44206020368565e-05\n",
      "212\n",
      "Длина градиентного спуска: 213, Min theta_mas: 6.44206020368565e-05\n",
      "212\n",
      "Длина градиентного спуска: 213, Min theta_mas: 6.44206020368565e-05\n",
      "212\n",
      "Длина градиентного спуска: 213, Min theta_mas: 6.44206020368565e-05\n",
      "212\n",
      "Длина градиентного спуска: 213, Min theta_mas: 6.44206020368565e-05\n",
      "212\n",
      "Длина градиентного спуска: 213, Min theta_mas: 6.44206020368565e-05\n",
      "212\n",
      "Длина градиентного спуска: 213, Min theta_mas: 6.44206020368565e-05\n",
      "212\n",
      "Длина градиентного спуска: 213, Min theta_mas: 6.44206020368565e-05\n",
      "212\n",
      "Длина градиентного спуска: 213, Min theta_mas: 6.44206020368565e-05\n",
      "212\n",
      "Длина градиентного спуска: 213, Min theta_mas: 6.44206020368565e-05\n",
      "212\n",
      "Длина градиентного спуска: 213, Min theta_mas: 6.44206020368565e-05\n",
      "212\n",
      "Длина градиентного спуска: 213, Min theta_mas: 6.44206020368565e-05\n",
      "212\n",
      "Длина градиентного спуска: 213, Min theta_mas: 6.44206020368565e-05\n",
      "212\n",
      "Длина градиентного спуска: 213, Min theta_mas: 6.44206020368565e-05\n",
      "212\n",
      "Длина градиентного спуска: 213, Min theta_mas: 6.44206020368565e-05\n",
      "212\n",
      "Длина градиентного спуска: 213, Min theta_mas: 6.44206020368565e-05\n",
      "212\n",
      "Длина градиентного спуска: 213, Min theta_mas: 6.44206020368565e-05\n",
      "212\n",
      "Длина градиентного спуска: 213, Min theta_mas: 6.44206020368565e-05\n",
      "212\n",
      "Длина градиентного спуска: 213, Min theta_mas: 6.44206020368565e-05\n",
      "212\n",
      "Длина градиентного спуска: 213, Min theta_mas: 6.44206020368565e-05\n",
      "212\n",
      "Длина градиентного спуска: 213, Min theta_mas: 6.44206020368565e-05\n",
      "212\n",
      "Длина градиентного спуска: 213, Min theta_mas: 6.44206020368565e-05\n",
      "212\n",
      "Длина градиентного спуска: 213, Min theta_mas: 6.44206020368565e-05\n",
      "212\n",
      "Длина градиентного спуска: 213, Min theta_mas: 6.44206020368565e-05\n",
      "212\n",
      "Длина градиентного спуска: 213, Min theta_mas: 6.44206020368565e-05\n",
      "212\n",
      "Длина градиентного спуска: 213, Min theta_mas: 6.44206020368565e-05\n",
      "212\n",
      "Длина градиентного спуска: 213, Min theta_mas: 6.44206020368565e-05\n",
      "212\n",
      "Длина градиентного спуска: 213, Min theta_mas: 6.44206020368565e-05\n",
      "212\n",
      "Длина градиентного спуска: 213, Min theta_mas: 6.44206020368565e-05\n",
      "212\n",
      "Длина градиентного спуска: 213, Min theta_mas: 6.44206020368565e-05\n",
      "212\n",
      "Длина градиентного спуска: 213, Min theta_mas: 6.44206020368565e-05\n",
      "212\n",
      "Длина градиентного спуска: 213, Min theta_mas: 6.44206020368565e-05\n",
      "212\n",
      "Длина градиентного спуска: 213, Min theta_mas: 6.44206020368565e-05\n",
      "212\n",
      "Длина градиентного спуска: 213, Min theta_mas: 6.44206020368565e-05\n",
      "212\n",
      "Длина градиентного спуска: 213, Min theta_mas: 6.44206020368565e-05\n",
      "212\n",
      "Длина градиентного спуска: 213, Min theta_mas: 6.44206020368565e-05\n",
      "212\n",
      "Длина градиентного спуска: 213, Min theta_mas: 6.44206020368565e-05\n",
      "212\n",
      "Длина градиентного спуска: 213, Min theta_mas: 6.44206020368565e-05\n",
      "212\n",
      "Длина градиентного спуска: 213, Min theta_mas: 6.44206020368565e-05\n",
      "212\n",
      "Длина градиентного спуска: 213, Min theta_mas: 6.44206020368565e-05\n",
      "212\n",
      "Длина градиентного спуска: 213, Min theta_mas: 6.44206020368565e-05\n",
      "212\n",
      "Длина градиентного спуска: 213, Min theta_mas: 6.44206020368565e-05\n",
      "212\n",
      "Длина градиентного спуска: 213, Min theta_mas: 6.44206020368565e-05\n",
      "212\n",
      "Длина градиентного спуска: 213, Min theta_mas: 6.44206020368565e-05\n",
      "212\n",
      "Длина градиентного спуска: 213, Min theta_mas: 6.44206020368565e-05\n",
      "212\n",
      "Длина градиентного спуска: 213, Min theta_mas: 6.44206020368565e-05\n",
      "212\n",
      "Длина градиентного спуска: 213, Min theta_mas: 6.44206020368565e-05\n",
      "212\n",
      "Длина градиентного спуска: 213, Min theta_mas: 6.44206020368565e-05\n",
      "212\n",
      "Длина градиентного спуска: 213, Min theta_mas: 6.44206020368565e-05\n",
      "212\n",
      "Длина градиентного спуска: 213, Min theta_mas: 6.44206020368565e-05\n",
      "212\n",
      "Длина градиентного спуска: 213, Min theta_mas: 6.44206020368565e-05\n",
      "212\n",
      "Длина градиентного спуска: 213, Min theta_mas: 6.44206020368565e-05\n",
      "212\n",
      "Длина градиентного спуска: 213, Min theta_mas: 6.44206020368565e-05\n",
      "212\n",
      "Длина градиентного спуска: 213, Min theta_mas: 6.44206020368565e-05\n",
      "212\n",
      "Длина градиентного спуска: 213, Min theta_mas: 6.44206020368565e-05\n",
      "212\n",
      "Длина градиентного спуска: 213, Min theta_mas: 6.44206020368565e-05\n",
      "212\n",
      "Длина градиентного спуска: 213, Min theta_mas: 6.44206020368565e-05\n",
      "212\n",
      "Длина градиентного спуска: 213, Min theta_mas: 6.44206020368565e-05\n",
      "212\n",
      "Длина градиентного спуска: 213, Min theta_mas: 6.44206020368565e-05\n",
      "212\n",
      "Длина градиентного спуска: 213, Min theta_mas: 6.44206020368565e-05\n",
      "212\n",
      "Длина градиентного спуска: 213, Min theta_mas: 6.44206020368565e-05\n",
      "212\n",
      "Длина градиентного спуска: 213, Min theta_mas: 6.44206020368565e-05\n",
      "212\n",
      "Длина градиентного спуска: 213, Min theta_mas: 6.44206020368565e-05\n",
      "212\n",
      "Длина градиентного спуска: 213, Min theta_mas: 6.44206020368565e-05\n",
      "212\n",
      "Длина градиентного спуска: 213, Min theta_mas: 6.44206020368565e-05\n",
      "212\n",
      "Длина градиентного спуска: 213, Min theta_mas: 6.44206020368565e-05\n",
      "16.8 ms ± 3.68 ms per loop (mean ± std. dev. of 7 runs, 10 loops each)\n"
     ]
    },
    {
     "data": {
      "image/png": "[encoded data removed]",
      "text/plain": [
       "<Figure size 432x288 with 1 Axes>"
      ]
     },
     "metadata": {
      "needs_background": "light"
     },
     "output_type": "display_data"
    }
   ],
   "source": [
    "%timeit linreg_crit.fit(X, y)"
   ]
  },
  {
   "cell_type": "code",
   "execution_count": 11,
   "metadata": {},
   "outputs": [
    {
     "name": "stdout",
     "output_type": "stream",
     "text": [
      "212\n",
      "Длина градиентного спуска: 213, Min theta_mas: 6.44206020368565e-05\n"
     ]
    },
    {
     "data": {
      "image/png": "[encoded data removed]",
      "text/plain": [
       "<Figure size 432x288 with 1 Axes>"
      ]
     },
     "metadata": {
      "needs_background": "light"
     },
     "output_type": "display_data"
    }
   ],
   "source": [
    "\n",
    "linreg_crit.fit(X, y)"
   ]
  },
  {
   "cell_type": "markdown",
   "metadata": {},
   "source": [
    "Как видно из результатов эксперимента, реализация на матричных операциях опережает реализацию на градиентном спуске в 500 раз. Но всегда ли это так и какие подводные камни могут быть? Ниже приведен набор случаев, при которых версия с градентным спуском предпочтительнее:\n",
    "\n",
    "1. Градиентный спуск работает быстрее в случае матриц с большим количеством признаков. Основная по сложности операция — нахождение обратной матрицы $(X^T X)^{-1}$.\n",
    "1. Нахождение обратной матрицы может также потребовать больше оперативной памяти, что иногда является не приемлемым.\n",
    "1. Матричные операции могут также проигрывать и в случае небольших объемов данных, но при плохой параллельной реализации или недостаточных ресурсах.\n",
    "1. Градиентный спуск может быть усовершенствован до так называемого **стохастического градиентного спуска**, при котором данные для оптимизации подгружаются небольшими наборами, что уменьшает требования по памяти.\n",
    "1. В некоторых случаях (например, в случае линейно-зависимых строк) алгебраический способ решения не будет работать совсем в виду невозможности найти обратную матрицу."
   ]
  },
  {
   "cell_type": "markdown",
   "metadata": {},
   "source": [
    "### 2.2. Превращение линейной модели в нелинейную"
   ]
  },
  {
   "cell_type": "markdown",
   "metadata": {},
   "source": [
    "Нелинейные зависимости в данных встречаются намного чаще линейных. На самом деле простейшая линейная регрессия способна обнаруживать нелинейные зависимости. Для этого необходимо рассмотреть дополнительные признаки, полученные из исходных применением различных нелинейных функций. Возьмем уже знакомый датасет с ценами на квартиры в Бостоне и последовательно станем применять различные функции к исходным признакам:"
   ]
  },
  {
   "cell_type": "markdown",
   "metadata": {},
   "source": [
    "Boston Data. Attribute Information (in order):\n",
    "    - CRIM     per capita crime rate by town\n",
    "    - ZN       proportion of residential land zoned for lots over 25,000 sq.ft.\n",
    "    - INDUS    proportion of non-retail business acres per town\n",
    "    - CHAS     Charles River dummy variable (= 1 if tract bounds river; 0 otherwise)\n",
    "    - NOX      nitric oxides concentration (parts per 10 million)\n",
    "    - RM       average number of rooms per dwelling\n",
    "    - AGE      proportion of owner-occupied units built prior to 1940\n",
    "    - DIS      weighted distances to five Boston employment centres\n",
    "    - RAD      index of accessibility to radial highways\n",
    "    - TAX      full-value property-tax rate per `$10000`\n",
    "    - PTRATIO  pupil-teacher ratio by town\n",
    "    - B        1000(Bk - 0.63)^2 where Bk is the proportion of blacks by town\n",
    "    - LSTAT    % lower status of the population\n",
    "    - MEDV     Median value of owner-occupied homes in $1000's"
   ]
  },
  {
   "cell_type": "code",
   "execution_count": 12,
   "metadata": {},
   "outputs": [],
   "source": [
    "def prepare_boston_data_new():\n",
    "    data = load_boston()\n",
    "    X, y = data['data'], data['target']\n",
    "    \n",
    "    X = np.hstack([X, np.sqrt(X[:, 5:6]), X[:, 6:7] ** 3])\n",
    "    \n",
    "    # Нормализовать даннные с помощью стандартной нормализации\n",
    "    #X = (X - X.mean(axis=0)) / X.std(axis=0)\n",
    "    # Добавить фиктивный столбец единиц (bias линейной модели)\n",
    "    X = np.hstack([np.ones(X.shape[0])[:, np.newaxis], X])\n",
    "    \n",
    "    return X, y"
   ]
  },
  {
   "cell_type": "markdown",
   "metadata": {},
   "source": [
    "Мы добавили два новых признака:\n",
    "1. Взяли корень из признака RM (среднее число комнат на сожителя)\n",
    "1. Возвели в куб значения признака AGE\n",
    "\n",
    "Это только два примера. Всевозможных комбинаций признаков и примененных к ним функций неограниченное количество."
   ]
  },
  {
   "cell_type": "code",
   "execution_count": 13,
   "metadata": {},
   "outputs": [],
   "source": [
    "def train_validate(X, y):\n",
    "    # Разбить данные на train/valid\n",
    "    X_train, X_valid, y_train, y_valid = train_test_split(X, y, test_size=0.2, shuffle=True, random_state=1)\n",
    "\n",
    "    # Создать и обучить линейную регрессию\n",
    "    linreg_alg = LinRegAlgebra()\n",
    "    linreg_alg.fit(X_train, y_train)\n",
    "\n",
    "    # Сделать предсказания по валидционной выборке\n",
    "    y_pred = linreg_alg.predict(X_valid)\n",
    "\n",
    "    # Посчитать значение ошибок MSE и RMSE для валидационных данных\n",
    "    print_regression_metrics(y_valid, y_pred)"
   ]
  },
  {
   "cell_type": "code",
   "execution_count": 14,
   "metadata": {},
   "outputs": [
    {
     "name": "stdout",
     "output_type": "stream",
     "text": [
      "MSE = 23.38, RMSE = 4.84\n"
     ]
    }
   ],
   "source": [
    "# Подготовить данные без модификации признаков\n",
    "X, y = prepare_boston_data()\n",
    "# Провести эксперимент\n",
    "train_validate(X, y)"
   ]
  },
  {
   "cell_type": "code",
   "execution_count": 15,
   "metadata": {},
   "outputs": [
    {
     "name": "stdout",
     "output_type": "stream",
     "text": [
      "MSE = 14.28, RMSE = 3.78\n"
     ]
    }
   ],
   "source": [
    "# Подготовить данные без модификации признаков\n",
    "X, y = prepare_boston_data_new()\n",
    "# Провести эксперимент\n",
    "train_validate(X, y)"
   ]
  },
  {
   "cell_type": "markdown",
   "metadata": {},
   "source": [
    "Как видно из результатов, мы добились улучшения точности предсказаний на 40%, всего лишь добавив пару нелинейных признаков в имеющимся. Можете поиграть с признаками и еще улучшить результат."
   ]
  },
  {
   "cell_type": "markdown",
   "metadata": {},
   "source": [
    "#### Задание 3.6.2\n",
    "Добавьте к признакам нелинейной модели квадрат признака `DIS` и переобучите модель. Какой получился `RMSE`?\n",
    "Ответ округлите до сотых, пример ввода: `5.55`"
   ]
  },
  {
   "cell_type": "code",
   "execution_count": null,
   "metadata": {},
   "outputs": [],
   "source": []
  }
 ],
 "metadata": {
  "kernelspec": {
   "display_name": "Python 3",
   "language": "python",
   "name": "python3"
  },
  "language_info": {
   "codemirror_mode": {
    "name": "ipython",
    "version": 3
   },
   "file_extension": ".py",
   "mimetype": "text/x-python",
   "name": "python",
   "nbconvert_exporter": "python",
   "pygments_lexer": "ipython3",
   "version": "3.8.3"
  }
 },
 "nbformat": 4,
 "nbformat_minor": 2
}
