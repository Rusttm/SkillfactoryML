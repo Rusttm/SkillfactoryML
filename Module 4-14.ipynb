{
 "cells": [
  {
   "cell_type": "markdown",
   "id": "6ab7a8b9",
   "metadata": {},
   "source": [
    "# 4.14. V-мера. Практика"
   ]
  },
  {
   "cell_type": "code",
   "execution_count": 2,
   "id": "ce117ebe",
   "metadata": {},
   "outputs": [],
   "source": [
    "#подготовка данных\n",
    "from sklearn import datasets\n",
    "import numpy as np\n",
    "def prepare_blobs():\n",
    "    n_samples = 1500\n",
    "    dataset = datasets.make_blobs(n_samples=n_samples, centers=2, center_box=(-7.0, 7.5), cluster_std=[1.4, 1.7], random_state=42)\n",
    "    X_2, _ = datasets.make_blobs(n_samples=n_samples, random_state=170, centers=[[-4, -3]], cluster_std=[1.9])\n",
    "    transformation = [[1.2, -0.8], [-0.4, 1.7]]\n",
    "    X_2 = np.dot(X_2, transformation)\n",
    "    X, y = np.concatenate((dataset[0], X_2)), np.concatenate((dataset[1], np.array([2] * len(X_2))))\n",
    "    return X, y\n",
    "\n",
    "X, y = prepare_blobs()"
   ]
  },
  {
   "cell_type": "code",
   "execution_count": 3,
   "id": "9c262de2",
   "metadata": {},
   "outputs": [
    {
     "data": {
      "text/plain": [
       "0.795592702456356"
      ]
     },
     "execution_count": 3,
     "metadata": {},
     "output_type": "execute_result"
    }
   ],
   "source": [
    "from sklearn.cluster import KMeans\n",
    "from sklearn.metrics.cluster import v_measure_score\n",
    "\n",
    "# сначала получим предсказанные кластеры при помощи метода кластеризации\n",
    "kmeans = KMeans(n_clusters=3, random_state=42)\n",
    "kmeans.fit(X)\n",
    "kmeans_pred = kmeans.labels_\n",
    "\n",
    "# теперь посчитаем полноту\n",
    "v_measure_score(labels_true=y, labels_pred=kmeans_pred)"
   ]
  },
  {
   "cell_type": "markdown",
   "id": "a4b3e22a",
   "metadata": {},
   "source": [
    "## Задание 4.14.1\n",
    "\n",
    "2.0/2.0 points (graded)\n",
    "Обучите модель GaussianMixture с параметрами n_components=3 и random_state=42 на признаках исходного датасета. Посчитайте v-меру для получившейся кластеризации.\n",
    "\n",
    "Подсказка: При решении задания стандартизация должна быть включена. Ответ округлите до сотых и запишите с точкой."
   ]
  },
  {
   "cell_type": "code",
   "execution_count": 2,
   "id": "cc16c3e2",
   "metadata": {},
   "outputs": [],
   "source": [
    "#подготовка данных\n",
    "from sklearn import datasets\n",
    "import numpy as np\n",
    "def prepare_blobs():\n",
    "    n_samples = 1500\n",
    "    dataset = datasets.make_blobs(n_samples=n_samples, centers=2, center_box=(-7.0, 7.5), cluster_std=[1.4, 1.7], random_state=42)\n",
    "    X_2, _ = datasets.make_blobs(n_samples=n_samples, random_state=170, centers=[[-4, -3]], cluster_std=[1.9])\n",
    "    transformation = [[1.2, -0.8], [-0.4, 1.7]]\n",
    "    X_2 = np.dot(X_2, transformation)\n",
    "    X, y = np.concatenate((dataset[0], X_2)), np.concatenate((dataset[1], np.array([2] * len(X_2))))\n",
    "    return X, y\n",
    "\n",
    "X, y = prepare_blobs()"
   ]
  },
  {
   "cell_type": "code",
   "execution_count": 46,
   "id": "4ccd6990",
   "metadata": {},
   "outputs": [],
   "source": [
    "#стандартизация\n",
    "from sklearn.preprocessing import StandardScaler\n",
    "X_st = StandardScaler().fit_transform(X)"
   ]
  },
  {
   "cell_type": "code",
   "execution_count": 16,
   "id": "1201b4be",
   "metadata": {},
   "outputs": [],
   "source": [
    "#создаем класс для всех моделей\n",
    "\n",
    "from sklearn.cluster import DBSCAN\n",
    "from sklearn.cluster import AgglomerativeClustering\n",
    "from sklearn.mixture import GaussianMixture\n",
    "from sklearn.cluster import KMeans\n",
    "\n",
    "class complex_fit():\n",
    "    def __init__(self):\n",
    "        pass\n",
    "    \n",
    "    def y_pred_dbscan(self, n_clusters=3, X=X ):\n",
    "        dbscan = DBSCAN(eps=0.9, min_samples=35)\n",
    "        dbscan.fit(X)\n",
    "        y_pred_dbscan = dbscan.labels_\n",
    "        return y_pred_dbscan\n",
    "    \n",
    "    def y_pred_ac(self, n_clusters=3, X=X):\n",
    "        ac = AgglomerativeClustering(n_clusters=n_clusters)\n",
    "        ac.fit(X)\n",
    "        y_pred_ac = ac.labels_.astype(np.int)\n",
    "        return y_pred_ac\n",
    "    \n",
    "    def y_pred_gm(self, n_clusters=3, X=X):\n",
    "        gm = GaussianMixture(n_components=n_clusters, random_state=42)\n",
    "        y_pred_gm = gm.fit_predict(X)\n",
    "        return y_pred_gm\n",
    "    \n",
    "    def y_pred_km(self, n_clusters=3, X=X):\n",
    "        k_means = KMeans(n_clusters=n_clusters, random_state=42)\n",
    "        k_means.fit(X)\n",
    "        #k_means.cluster_centers_\n",
    "        y_pred_km = k_means.labels_\n",
    "        return y_pred_km\n",
    "\n",
    "    def pred_array(self, n_clusters=3, X=X):\n",
    "        x = [self.y_pred_km(n_clusters, X=X), \n",
    "        self.y_pred_gm(n_clusters, X=X), \n",
    "        self.y_pred_ac(n_clusters, X=X), \n",
    "        self.y_pred_dbscan(n_clusters, X=X)]\n",
    "        return x"
   ]
  },
  {
   "cell_type": "code",
   "execution_count": 17,
   "id": "e614384d",
   "metadata": {},
   "outputs": [],
   "source": [
    "cf = complex_fit()\n",
    "pred_array = cf.pred_array(n_clusters=3, X=X)"
   ]
  },
  {
   "cell_type": "code",
   "execution_count": 20,
   "id": "26e4f953",
   "metadata": {},
   "outputs": [
    {
     "name": "stdout",
     "output_type": "stream",
     "text": [
      "1 0.795592702456356\n",
      "2 0.9332760595996924\n",
      "3 0.703747024360433\n",
      "4 0.7732549110297919\n"
     ]
    }
   ],
   "source": [
    "for n, pred in enumerate(pred_array):\n",
    "    x = v_measure_score(labels_true=y, labels_pred=pred)\n",
    "    print(n+1, x)"
   ]
  },
  {
   "cell_type": "markdown",
   "id": "b652d2b4",
   "metadata": {},
   "source": [
    "### ответ 0,93"
   ]
  },
  {
   "cell_type": "markdown",
   "id": "8a004d16",
   "metadata": {},
   "source": [
    "## Задание 4.14.2\n",
    "\n",
    "2.0/2.0 points (graded)\n",
    "Сравните результаты кластеризации алгоритмов K-means, GaussianMixture, AgglomerativeClustering и DBSCAN на исходном датасете при помощи v-меры, инициализируйте алгоритмы со следующими параметрами:\n",
    "\n",
    "K-means – n_clusters=3, random_state=42\n",
    "GaussianMixture – n_components=3, random_state=42\n",
    "AgglomerativeClustering – n_clusters=3\n",
    "DBSCAN – eps=0.9, min_samples=35\n",
    "В качестве ответа укажите максимальное значение v-меры, полученное при помощи данных моделей. Ответ округлите до сотых и запишите с точкой."
   ]
  },
  {
   "cell_type": "code",
   "execution_count": 21,
   "id": "892470ca",
   "metadata": {},
   "outputs": [
    {
     "name": "stdout",
     "output_type": "stream",
     "text": [
      "1 0.795592702456356\n",
      "2 0.9332760595996924\n",
      "3 0.703747024360433\n",
      "4 0.7732549110297919\n"
     ]
    }
   ],
   "source": [
    "for n, pred in enumerate(pred_array):\n",
    "    x = v_measure_score(labels_true=y, labels_pred=pred)\n",
    "    print(n+1, x)"
   ]
  },
  {
   "cell_type": "markdown",
   "id": "397b8815",
   "metadata": {},
   "source": [
    "### ответ 0,93"
   ]
  },
  {
   "cell_type": "markdown",
   "id": "75c81ae1",
   "metadata": {},
   "source": [
    "## Задание 4.14.3\n",
    "\n",
    "2.0/2.0 points (graded)\n",
    "Сравним модификации K-means с использованием случайной инициализации центроидов и с использованием алгоритма K-means++ для инициализации центроидов.\n",
    "\n",
    "Для этого обучим на исходном датасете 2 модели K-means со следующими параметрами:\n",
    "\n",
    "n_clusters=3, init='k-means++', n_init=1, random_state=42\n",
    "n_clusters=3, init='random', n_init=1, random_state=42\n",
    "В качестве ответа укажите максимальное значение v-меры, полученное при помощи данных моделей.\n",
    "\n",
    "Подсказка: При решении задания стандартизация должна быть включена. Ответ округлите до сотых и запишите с точкой."
   ]
  },
  {
   "cell_type": "code",
   "execution_count": 22,
   "id": "daf1d41c",
   "metadata": {},
   "outputs": [
    {
     "name": "stdout",
     "output_type": "stream",
     "text": [
      "0.7911556191133551\n"
     ]
    },
    {
     "data": {
      "text/plain": [
       "0.5990620007488798"
      ]
     },
     "execution_count": 22,
     "metadata": {},
     "output_type": "execute_result"
    }
   ],
   "source": [
    "k_means1 = KMeans(n_clusters=3, init='k-means++', n_init=1, random_state=42)\n",
    "k_means1.fit(X)\n",
    "#k_means.cluster_centers_\n",
    "y_pred_km1 = k_means1.labels_\n",
    "print(v_measure_score(labels_true=y, labels_pred=y_pred_km1))\n",
    "\n",
    "k_means2 = KMeans(n_clusters=3, init='random', n_init=1, random_state=42)\n",
    "k_means2.fit(X)\n",
    "#k_means.cluster_centers_\n",
    "y_pred_km2 = k_means2.labels_\n",
    "v_measure_score(labels_true=y, labels_pred=y_pred_km2)"
   ]
  },
  {
   "cell_type": "markdown",
   "id": "b421fa90",
   "metadata": {},
   "source": [
    "### ответ 0,79"
   ]
  },
  {
   "cell_type": "markdown",
   "id": "3f98fb3d",
   "metadata": {},
   "source": [
    "## Задание 4.14.4\n",
    "\n",
    "2.0/2.0 points (graded)\n",
    "Теперь сравним K-means с ещё одной модификацией — K-means mini batch. Воспользоваться реализацией K-means mini batch в библиотеке sklearn можно следующим образом:\n",
    "\n",
    "\n",
    "k-means с параметрами n_clusters=3, n_init=1, random_state=42\n",
    "MiniBatchKMeans с параметрами n_clusters=3, n_init=1, random_state=42\n",
    "В качестве ответа введите максимальное значение v-меры, полученное при помощи данных моделей. В задании может понадобиться или не понадобиться нормализация — это нужно проверить во время решения задания. Ответ округлите до десятых и запишите с точкой."
   ]
  },
  {
   "cell_type": "code",
   "execution_count": 26,
   "id": "8852e006",
   "metadata": {},
   "outputs": [
    {
     "name": "stdout",
     "output_type": "stream",
     "text": [
      "0.804697430165486\n"
     ]
    }
   ],
   "source": [
    "from sklearn.cluster import MiniBatchKMeans\n",
    "\n",
    "kmeans_mini_batch = MiniBatchKMeans(n_clusters=3, n_init=1, random_state=42)\n",
    "kmeans_mini_batch.fit(X_st)\n",
    "kmeans_mini_batch_pred = kmeans_mini_batch.labels_\n",
    "print(v_measure_score(labels_true=y, labels_pred=kmeans_mini_batch_pred))"
   ]
  },
  {
   "cell_type": "code",
   "execution_count": 27,
   "id": "91af2d7a",
   "metadata": {},
   "outputs": [
    {
     "name": "stdout",
     "output_type": "stream",
     "text": [
      "0.7892280957870129\n"
     ]
    }
   ],
   "source": [
    "k_means1 = KMeans(n_clusters=3, n_init=1, random_state=42)\n",
    "k_means1.fit(X_st)\n",
    "#k_means.cluster_centers_\n",
    "y_pred_km1 = k_means1.labels_\n",
    "print(v_measure_score(labels_true=y, labels_pred=y_pred_km1))"
   ]
  },
  {
   "cell_type": "markdown",
   "id": "ffa9cd73",
   "metadata": {},
   "source": [
    "### ответ 0,8 (с нормализацией)"
   ]
  },
  {
   "cell_type": "markdown",
   "id": "f5971f3c",
   "metadata": {},
   "source": [
    "## Задание 4.14.5\n",
    "\n",
    "2.0/2.0 points (graded)\n",
    "Рассмотрим агломеративную кластеризацию. Сравним, как влияет на качество кластеризации разный тип расстояния между кластерами.\n",
    "\n",
    "Обучите на исходном датасете четыре модели AgglomerativeClustering с параметром n_clusters=3, меняя параметр linkage.\n",
    "\n",
    "В качестве ответа укажите максимальное значение v-меры, полученное при помощи данных моделей. В задании может понадобиться или не понадобиться нормализация — это нужно проверить во время решения задания. Ответ округлите до десятых и запишите с точкой."
   ]
  },
  {
   "cell_type": "code",
   "execution_count": 30,
   "id": "34f3e701",
   "metadata": {},
   "outputs": [
    {
     "name": "stdout",
     "output_type": "stream",
     "text": [
      "ward 0.9079037199053294\n",
      "complete 0.5805530251504777\n",
      "average 0.678656551579543\n",
      "single 0.0008842106330108959\n"
     ]
    }
   ],
   "source": [
    "link_array = ['ward', 'complete', 'average', 'single']\n",
    "for linkage in link_array:\n",
    "    ac = AgglomerativeClustering(n_clusters=3, linkage=linkage)\n",
    "    ac.fit(X_st)\n",
    "    y_pred_ac = ac.labels_.astype(np.int)\n",
    "    print(linkage, v_measure_score(labels_true=y, labels_pred=y_pred_ac))"
   ]
  },
  {
   "cell_type": "markdown",
   "id": "ba952961",
   "metadata": {},
   "source": [
    "### ответ 0,9 (с нормализацией)"
   ]
  },
  {
   "cell_type": "markdown",
   "id": "2a5f1f8e",
   "metadata": {},
   "source": [
    "## Задание 4.14.6\n",
    "\n",
    "2.0/2.0 points (graded)\n",
    "Сравним, как влияет предварительный расчёт матрицы смежности на качество агломеративной кластеризации.\n",
    "\n",
    "Обучите на исходном датасете две модели AgglomerativeClustering:\n",
    "\n",
    "с параметром n_clusters=3\n",
    "с параметром n_clusters=3 и предварительно посчитанной матрицей смежности для объектов датасета\n",
    "Построить матрицу смежности можно с помощью кода:\n",
    "\n",
    "В качестве ответа введите максимальное значение v-меры, полученное при помощи данных моделей. В задании может понадобиться или не понадобиться нормализация — это нужно проверить во время решения задания. Ответ округлите до десятых и запишите с точкой."
   ]
  },
  {
   "cell_type": "code",
   "execution_count": 32,
   "id": "85fb4748",
   "metadata": {},
   "outputs": [],
   "source": [
    "from sklearn.neighbors import kneighbors_graph\n",
    "\n",
    "connectivity = kneighbors_graph(X, n_neighbors=6, include_self=False)\n",
    "connectivity = 0.5 * (connectivity + connectivity.T)\n",
    "\n",
    "\n"
   ]
  },
  {
   "cell_type": "code",
   "execution_count": 33,
   "id": "acb5d11e",
   "metadata": {},
   "outputs": [
    {
     "name": "stdout",
     "output_type": "stream",
     "text": [
      "single 0.9079037199053294\n",
      "single 0.883942992495597\n"
     ]
    }
   ],
   "source": [
    "ac1 = AgglomerativeClustering(n_clusters=3, connectivity=None)\n",
    "ac1.fit(X_st)\n",
    "y_pred_ac1 = ac1.labels_.astype(np.int)\n",
    "print(linkage, v_measure_score(labels_true=y, labels_pred=y_pred_ac1))\n",
    "\n",
    "ac2 = AgglomerativeClustering(n_clusters=3, connectivity=connectivity)\n",
    "ac2.fit(X_st)\n",
    "y_pred_ac2 = ac2.labels_.astype(np.int)\n",
    "print(linkage, v_measure_score(labels_true=y, labels_pred=y_pred_ac2))"
   ]
  },
  {
   "cell_type": "markdown",
   "id": "43051afa",
   "metadata": {},
   "source": [
    "### ответ 0,9 (с нормализацией)"
   ]
  },
  {
   "cell_type": "markdown",
   "id": "d13b2740",
   "metadata": {},
   "source": [
    "## Задание 4.14.7\n",
    "\n",
    "2.0/2.0 points (graded)\n",
    "Алгоритм DBSCAN очень требователен к параметрам: небольшое изменение в параметре eps или min_samples может изменить результат и качество кластеризации.\n",
    "\n",
    "Обучите на исходном датасете две модели DBSCAN:\n",
    "\n",
    "с параметрами eps=0.9, min_samples=35;\n",
    "с параметрами eps=0.8, min_samples=35.\n",
    "В качестве ответа укажите максимальное значение v-меры, полученное при помощи данных моделей. В задании может понадобиться или не понадобиться нормализация — это нужно проверить во время решения задания. Ответ округлите до сотых и запишите с точкой."
   ]
  },
  {
   "cell_type": "code",
   "execution_count": 34,
   "id": "a1fc2ab0",
   "metadata": {},
   "outputs": [
    {
     "name": "stdout",
     "output_type": "stream",
     "text": [
      "0.7732549110297919\n",
      "0.7063100442576922\n"
     ]
    }
   ],
   "source": [
    "dbscan1 = DBSCAN(eps=0.9, min_samples=35)\n",
    "dbscan1.fit(X)\n",
    "y_pred_dbscan1 = dbscan1.labels_\n",
    "print(v_measure_score(labels_true=y, labels_pred=y_pred_dbscan1))\n",
    "\n",
    "dbscan2 = DBSCAN(eps=0.8, min_samples=35)\n",
    "dbscan2.fit(X)\n",
    "y_pred_dbscan2 = dbscan2.labels_\n",
    "print(v_measure_score(labels_true=y, labels_pred=y_pred_dbscan2))\n",
    "\n"
   ]
  },
  {
   "cell_type": "markdown",
   "id": "bc11566c",
   "metadata": {},
   "source": [
    "### ответ 0,9 (без нормализации)"
   ]
  },
  {
   "cell_type": "markdown",
   "id": "73fe3823",
   "metadata": {},
   "source": [
    "## Задание 4.14.8\n",
    "\n",
    "2.0/2.0 points (graded)\n",
    "Особенностью алгоритма DBSCAN является то, что, помимо кластеризации, этот алгоритм определяет выбросы в выборке. Посмотрим на качество кластеризации без учёта таких объектов.\n",
    "\n",
    "Обучите на исходном датасете модель DBSCAN с параметрами eps=0.9, min_samples=35. Посчитайте значение v-меры только для основных и граничных объектов выборки, то есть для объектов, которые не являются выбросами. Ответ округлите до сотых и запишите с точкой."
   ]
  },
  {
   "cell_type": "code",
   "execution_count": 40,
   "id": "c5b13832",
   "metadata": {},
   "outputs": [
    {
     "name": "stdout",
     "output_type": "stream",
     "text": [
      "0.9667281300681958\n"
     ]
    }
   ],
   "source": [
    "dbscan1 = DBSCAN(eps=0.9, min_samples=35)\n",
    "dbscan1.fit(X)\n",
    "y_pred_dbscan1 = dbscan1.labels_\n",
    "#исключаем выбросы\n",
    "y_pred_dbscan2 = []\n",
    "y_excluded = []\n",
    "for n, pred in enumerate(y_pred_dbscan1):\n",
    "    if pred!=-1:\n",
    "        y_pred_dbscan2.append(pred)\n",
    "        y_excluded.append(y[n])\n",
    "        \n",
    "print(v_measure_score(labels_true=y_excluded, labels_pred=y_pred_dbscan2))"
   ]
  },
  {
   "cell_type": "markdown",
   "id": "76acb3f0",
   "metadata": {},
   "source": [
    "### ответ 0,97 (без нормализации)"
   ]
  },
  {
   "cell_type": "markdown",
   "id": "e8046894",
   "metadata": {},
   "source": [
    "## Задание 4.14.9\n",
    "\n",
    "2.0/2.0 points (graded)\n",
    "В курсе мы рассмотрели две метода нормализации данных:\n",
    "\n",
    "MinMax-нормализация — приведение данных к масштабу между 0 и 1.\n",
    "Стандартная нормализация — данные имеют среднее 0 и стандартное отклонение 1.\n",
    "Проверим, влияет ли предобработка данных на результат кластеризации. Обучите две модели AgglomerativeClustering с параметрами n_clusters=3:\n",
    "\n",
    "на признаках исходного датасета,\n",
    "предварительно трансформируйте признаки при помощи стандартной нормализации.\n",
    "Посчитайте v-меру для получившихся результатов, в качестве ответа введите наибольшее значение. Ответ округлите до сотых и запишите с точкой."
   ]
  },
  {
   "cell_type": "code",
   "execution_count": 42,
   "id": "a6dca0aa",
   "metadata": {},
   "outputs": [
    {
     "name": "stdout",
     "output_type": "stream",
     "text": [
      "single 0.703747024360433\n",
      "single 0.9079037199053294\n"
     ]
    }
   ],
   "source": [
    "ac1 = AgglomerativeClustering(n_clusters=3)\n",
    "ac1.fit(X)\n",
    "y_pred_ac1 = ac1.labels_.astype(np.int)\n",
    "print(linkage, v_measure_score(labels_true=y, labels_pred=y_pred_ac1))\n",
    "\n",
    "ac2 = AgglomerativeClustering(n_clusters=3)\n",
    "ac2.fit(X_st)\n",
    "y_pred_ac2 = ac2.labels_.astype(np.int)\n",
    "print(linkage, v_measure_score(labels_true=y, labels_pred=y_pred_ac2))"
   ]
  },
  {
   "cell_type": "markdown",
   "id": "0a219dd4",
   "metadata": {},
   "source": [
    "### ответ 0,91"
   ]
  },
  {
   "cell_type": "markdown",
   "id": "cbaf6a47",
   "metadata": {},
   "source": [
    "## Задание 4.14.10\n",
    "\n",
    "2.0/2.0 points (graded)\n",
    "Обучите две модели AgglomerativeClustering с параметрами n_clusters=3:\n",
    "\n",
    "на признаках исходного датасета,\n",
    "предварительно трансформируйте признаки при помощи MinMax-нормализации.\n",
    "Посчитайте v-меру для получившихся результатов, в качестве ответа введите наибольшее значение. Ответ округлите до сотых и запишите с точкой.\n",
    "\n"
   ]
  },
  {
   "cell_type": "code",
   "execution_count": 44,
   "id": "56d93402",
   "metadata": {},
   "outputs": [],
   "source": [
    "#стандартизация\n",
    "from sklearn.preprocessing import MinMaxScaler\n",
    "X_st2 = MinMaxScaler().fit_transform(X)"
   ]
  },
  {
   "cell_type": "code",
   "execution_count": 48,
   "id": "aadec0f3",
   "metadata": {},
   "outputs": [
    {
     "name": "stdout",
     "output_type": "stream",
     "text": [
      "0.8929241488344335\n",
      "0.703747024360433\n"
     ]
    }
   ],
   "source": [
    "ac1 = AgglomerativeClustering(n_clusters=3)\n",
    "ac1.fit(X_st2)\n",
    "y_pred_ac1 = ac1.labels_.astype(np.int)\n",
    "print(v_measure_score(labels_true=y, labels_pred=y_pred_ac1))\n",
    "\n",
    "ac2 = AgglomerativeClustering(n_clusters=3)\n",
    "ac2.fit(X)\n",
    "y_pred_ac2 = ac2.labels_.astype(np.int)\n",
    "print(v_measure_score(labels_true=y, labels_pred=y_pred_ac2))"
   ]
  },
  {
   "cell_type": "markdown",
   "id": "9665c8db",
   "metadata": {},
   "source": [
    "### ответ 0,89"
   ]
  }
 ],
 "metadata": {
  "kernelspec": {
   "display_name": "Python 3 (ipykernel)",
   "language": "python",
   "name": "python3"
  },
  "language_info": {
   "codemirror_mode": {
    "name": "ipython",
    "version": 3
   },
   "file_extension": ".py",
   "mimetype": "text/x-python",
   "name": "python",
   "nbconvert_exporter": "python",
   "pygments_lexer": "ipython3",
   "version": "3.8.0"
  }
 },
 "nbformat": 4,
 "nbformat_minor": 5
}
